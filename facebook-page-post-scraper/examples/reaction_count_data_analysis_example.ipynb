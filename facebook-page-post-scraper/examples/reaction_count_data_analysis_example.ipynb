{
 "cells": [
  {
   "cell_type": "markdown",
   "metadata": {},
   "source": [
    "# Example of Processing Facebook Reaction Data\n",
    "\n",
    "by Max Woolf (@minimaxir)\n",
    "\n",
    "*This notebook is licensed under the MIT License. If you use the code or data visualization designs contained within this notebook, it would be greatly appreciated if proper attribution is given back to this notebook and/or myself. Thanks! :)*"
   ]
  },
  {
   "cell_type": "code",
   "execution_count": 34,
   "metadata": {
    "collapsed": false
   },
   "outputs": [
    {
     "data": {
      "text/plain": [
       "R version 3.3.0 (2016-05-03)\n",
       "Platform: x86_64-apple-darwin13.4.0 (64-bit)\n",
       "Running under: OS X 10.11.4 (El Capitan)\n",
       "\n",
       "locale:\n",
       "[1] en_US.UTF-8/en_US.UTF-8/en_US.UTF-8/C/en_US.UTF-8/en_US.UTF-8\n",
       "\n",
       "attached base packages:\n",
       "[1] grid      stats     graphics  grDevices utils     datasets  methods  \n",
       "[8] base     \n",
       "\n",
       "other attached packages:\n",
       " [1] viridis_0.3.4      tidyr_0.4.1        stringr_1.0.0      digest_0.6.9      \n",
       " [5] RColorBrewer_1.1-2 scales_0.4.0       extrafont_0.17     ggplot2_2.1.0     \n",
       " [9] dplyr_0.4.3        readr_0.2.2       \n",
       "\n",
       "loaded via a namespace (and not attached):\n",
       " [1] Rcpp_0.12.4      Rttf2pt1_1.3.3   magrittr_1.5     munsell_0.4.3   \n",
       " [5] uuid_0.1-2       colorspace_1.2-6 R6_2.1.2         plyr_1.8.3      \n",
       " [9] tools_3.3.0      parallel_3.3.0   gtable_0.2.0     DBI_0.4         \n",
       "[13] extrafontdb_1.0  lazyeval_0.1.10  assertthat_0.1   gridExtra_2.2.1 \n",
       "[17] IRdisplay_0.3    repr_0.4         base64enc_0.1-3  IRkernel_0.5    \n",
       "[21] evaluate_0.9     rzmq_0.7.7       stringi_1.0-1    jsonlite_0.9.19 "
      ]
     },
     "execution_count": 34,
     "metadata": {},
     "output_type": "execute_result"
    }
   ],
   "source": [
    "source(\"Rstart.R\")\n",
    "\n",
    "library(tidyr)\n",
    "library(viridis)\n",
    "\n",
    "sessionInfo()"
   ]
  },
  {
   "cell_type": "code",
   "execution_count": 3,
   "metadata": {
    "collapsed": false
   },
   "outputs": [
    {
     "name": "stdout",
     "output_type": "stream",
     "text": [
      "Source: local data frame [6 x 15]\n",
      "\n",
      "                     status_id\n",
      "                         (chr)\n",
      "1 5550296508_10154919083226509\n",
      "2 5550296508_10154919005411509\n",
      "3 5550296508_10154918925156509\n",
      "4 5550296508_10154918906011509\n",
      "5 5550296508_10154918844706509\n",
      "6 5550296508_10154918803531509\n",
      "Variables not shown: status_message (chr), link_name (chr), status_type (chr),\n",
      "  status_link (chr), status_published (time), num_reactions (int), num_comments\n",
      "  (int), num_shares (int), num_likes (int), num_loves (int), num_wows (int),\n",
      "  num_hahas (int), num_sads (int), num_angrys (int)\n"
     ]
    },
    {
     "data": {
      "text/html": [
       "4258"
      ],
      "text/latex": [
       "4258"
      ],
      "text/markdown": [
       "4258"
      ],
      "text/plain": [
       "[1] 4258"
      ]
     },
     "execution_count": 3,
     "metadata": {},
     "output_type": "execute_result"
    }
   ],
   "source": [
    "df <- read_csv(\"cnn_facebook_statuses.csv\") %>% filter(status_published > '2016-02-24 00:00:00')\n",
    "\n",
    "print(head(df))\n",
    "nrow(df)"
   ]
  },
  {
   "cell_type": "code",
   "execution_count": 31,
   "metadata": {
    "collapsed": false
   },
   "outputs": [
    {
     "name": "stdout",
     "output_type": "stream",
     "text": [
      "Source: local data frame [6 x 7]\n",
      "\n",
      "        date total_likes total_loves total_wows total_hahas total_sads\n",
      "      (date)       (int)       (int)      (int)       (int)      (int)\n",
      "1 2016-02-24      215784       12366       9699        6670       2699\n",
      "2 2016-02-25      183785        8280       4879       12300       2049\n",
      "3 2016-02-26      191436        6445       6141       14510       1874\n",
      "4 2016-02-27      144926        8828       2300        1004       1984\n",
      "5 2016-02-28      140882        6593       1627        3657       3654\n",
      "6 2016-02-29      286802       13716       4404        5899       4410\n",
      "Variables not shown: total_angrys (int)\n"
     ]
    }
   ],
   "source": [
    "df_agg <- df %>% group_by(date = as.Date(substr(status_published, 1, 10))) %>%\n",
    "                summarize(total_likes=sum(num_likes),\n",
    "                          total_loves=sum(num_loves),\n",
    "                          total_wows=sum(num_wows),\n",
    "                          total_hahas=sum(num_hahas),\n",
    "                          total_sads=sum(num_sads),\n",
    "                          total_angrys=sum(num_angrys)) %>%\n",
    "                arrange(date)\n",
    "\n",
    "print(head(df_agg))"
   ]
  },
  {
   "cell_type": "markdown",
   "metadata": {},
   "source": [
    "For ggplot, data must be converted to long format."
   ]
  },
  {
   "cell_type": "code",
   "execution_count": 62,
   "metadata": {
    "collapsed": false
   },
   "outputs": [
    {
     "name": "stdout",
     "output_type": "stream",
     "text": [
      "Source: local data frame [20 x 3]\n",
      "\n",
      "         date    reaction  count\n",
      "       (date)      (fctr)  (int)\n",
      "1  2016-02-24 total_likes 215784\n",
      "2  2016-02-25 total_likes 183785\n",
      "3  2016-02-26 total_likes 191436\n",
      "4  2016-02-27 total_likes 144926\n",
      "5  2016-02-28 total_likes 140882\n",
      "6  2016-02-29 total_likes 286802\n",
      "7  2016-03-01 total_likes 197091\n",
      "8  2016-03-02 total_likes 204942\n",
      "9  2016-03-03 total_likes 198320\n",
      "10 2016-03-04 total_likes 113997\n",
      "11 2016-03-05 total_likes 154004\n",
      "12 2016-03-06 total_likes 219300\n",
      "13 2016-03-07 total_likes 140551\n",
      "14 2016-03-08 total_likes 161067\n",
      "15 2016-03-09 total_likes 104399\n",
      "16 2016-03-10 total_likes 158898\n",
      "17 2016-03-11 total_likes 212756\n",
      "18 2016-03-12 total_likes  98536\n",
      "19 2016-03-13 total_likes  91079\n",
      "20 2016-03-14 total_likes 155147\n"
     ]
    }
   ],
   "source": [
    "df_agg_long <- df_agg %>% gather(key=reaction, value=count, total_likes:total_angrys) %>%\n",
    "                        mutate(reaction=factor(reaction))\n",
    "\n",
    "print(head(df_agg_long,20))"
   ]
  },
  {
   "cell_type": "markdown",
   "metadata": {},
   "source": [
    "Create a stacked area chart. (filled to 100%)"
   ]
  },
  {
   "cell_type": "code",
   "execution_count": 64,
   "metadata": {
    "collapsed": false
   },
   "outputs": [],
   "source": [
    "plot <- ggplot(df_agg_long, aes(x=date, y=count, color=reaction, fill=reaction)) +\n",
    "            geom_bar(size=0.25, position=\"fill\", stat=\"identity\") +\n",
    "            fte_theme() +\n",
    "            scale_x_date(breaks = date_breaks(\"1 month\"), labels = date_format(\"%b %Y\")) +\n",
    "            scale_y_continuous(labels=percent) +\n",
    "            theme(legend.title = element_blank(),\n",
    "                  legend.position=\"top\",\n",
    "                  legend.direction=\"horizontal\",\n",
    "                  legend.key.width=unit(0.5, \"cm\"),\n",
    "                  legend.key.height=unit(0.25, \"cm\"),\n",
    "                  legend.margin=unit(0,\"cm\")) +\n",
    "            scale_color_viridis(discrete=T) +\n",
    "            scale_fill_viridis(discrete=T) +\n",
    "            labs(title=\"Daily Breakdown of Facebook Reactions on CNN's FB Posts\",\n",
    "                 x=\"Date Status Posted\",\n",
    "                 y=\"% Reaction Marketshare\")\n",
    "\n",
    "max_save(plot, \"reaction-example-1\", \"Facebook\")"
   ]
  },
  {
   "cell_type": "markdown",
   "metadata": {},
   "source": [
    "![](reaction-example-1.png)\n",
    "\n",
    "The Likes reaction skews things. Run plot without it."
   ]
  },
  {
   "cell_type": "code",
   "execution_count": 65,
   "metadata": {
    "collapsed": false
   },
   "outputs": [],
   "source": [
    "plot <- ggplot(df_agg_long %>% filter(reaction!=\"total_likes\"), aes(x=date, y=count, color=reaction, fill=reaction)) +\n",
    "            geom_bar(size=0.25, position=\"fill\", stat=\"identity\") +\n",
    "            fte_theme() +\n",
    "            scale_x_date(breaks = date_breaks(\"1 month\"), labels = date_format(\"%b %Y\")) +\n",
    "            scale_y_continuous(labels=percent) +\n",
    "            theme(legend.title = element_blank(),\n",
    "                  legend.position=\"top\",\n",
    "                  legend.direction=\"horizontal\",\n",
    "                  legend.key.width=unit(0.5, \"cm\"),\n",
    "                  legend.key.height=unit(0.25, \"cm\"),\n",
    "                  legend.margin=unit(0,\"cm\")) +\n",
    "            scale_color_viridis(discrete=T) +\n",
    "            scale_fill_viridis(discrete=T) +\n",
    "            labs(title=\"Daily Breakdown of Facebook Reactions on CNN's FB Posts\",\n",
    "                 x=\"Date Status Posted\",\n",
    "                 y=\"% Reaction Marketshare\")\n",
    "\n",
    "max_save(plot, \"reaction-example-2\", \"Facebook\")"
   ]
  },
  {
   "cell_type": "markdown",
   "metadata": {},
   "source": [
    "![](reaction-example-2.png)"
   ]
  },
  {
   "cell_type": "markdown",
   "metadata": {},
   "source": [
    "That visualization might be too crowded: use percent-wise calculations instead, and switch data to NYTimes for comparison."
   ]
  },
  {
   "cell_type": "code",
   "execution_count": 76,
   "metadata": {
    "collapsed": false,
    "scrolled": false
   },
   "outputs": [
    {
     "name": "stdout",
     "output_type": "stream",
     "text": [
      "Source: local data frame [6 x 6]\n",
      "\n",
      "        date perc_loves  perc_wows perc_hahas  perc_sads perc_angrys\n",
      "      (date)      (dbl)      (dbl)      (dbl)      (dbl)       (dbl)\n",
      "1 2016-02-24  0.3930676 0.17360566 0.08621367 0.09740770  0.24970542\n",
      "2 2016-02-25  0.1919722 0.08666052 0.29210694 0.09332671  0.33593362\n",
      "3 2016-02-26  0.1435334 0.18946182 0.10831220 0.17396450  0.38472809\n",
      "4 2016-02-27  0.2736496 0.13627639 0.06443652 0.27570606  0.24993145\n",
      "5 2016-02-28  0.7713515 0.08522014 0.04054117 0.03737970  0.06550746\n",
      "6 2016-02-29  0.3399680 0.08842370 0.12708762 0.11256005  0.33196065\n"
     ]
    }
   ],
   "source": [
    "df <- read_csv(\"nytimes_facebook_statuses.csv\") %>% filter(status_published > '2016-02-24 00:00:00')\n",
    "\n",
    "df_agg <- df %>% group_by(date = as.Date(substr(status_published, 1, 10))) %>%\n",
    "                summarize(total_reactions=sum(num_loves)+sum(num_wows)+sum(num_hahas)+sum(num_sads)+sum(num_angrys),\n",
    "                          perc_loves=sum(num_loves)/total_reactions,\n",
    "                          perc_wows=sum(num_wows)/total_reactions,\n",
    "                          perc_hahas=sum(num_hahas)/total_reactions,\n",
    "                          perc_sads=sum(num_sads)/total_reactions,\n",
    "                          perc_angrys=sum(num_angrys)/total_reactions) %>%\n",
    "                select(-total_reactions) %>%\n",
    "                arrange(date)\n",
    "\n",
    "print(head(df_agg))"
   ]
  },
  {
   "cell_type": "code",
   "execution_count": 77,
   "metadata": {
    "collapsed": false
   },
   "outputs": [
    {
     "name": "stdout",
     "output_type": "stream",
     "text": [
      "Source: local data frame [20 x 3]\n",
      "\n",
      "         date   reaction      count\n",
      "       (date)     (fctr)      (dbl)\n",
      "1  2016-02-24 perc_loves 0.39306756\n",
      "2  2016-02-25 perc_loves 0.19197220\n",
      "3  2016-02-26 perc_loves 0.14353339\n",
      "4  2016-02-27 perc_loves 0.27364957\n",
      "5  2016-02-28 perc_loves 0.77135153\n",
      "6  2016-02-29 perc_loves 0.33996797\n",
      "7  2016-03-01 perc_loves 0.34061714\n",
      "8  2016-03-02 perc_loves 0.24681208\n",
      "9  2016-03-03 perc_loves 0.35172992\n",
      "10 2016-03-04 perc_loves 0.19499779\n",
      "11 2016-03-05 perc_loves 0.14512737\n",
      "12 2016-03-06 perc_loves 0.40097144\n",
      "13 2016-03-07 perc_loves 0.30259557\n",
      "14 2016-03-08 perc_loves 0.36623147\n",
      "15 2016-03-09 perc_loves 0.21422640\n",
      "16 2016-03-10 perc_loves 0.31396083\n",
      "17 2016-03-11 perc_loves 0.33173516\n",
      "18 2016-03-12 perc_loves 0.06377902\n",
      "19 2016-03-13 perc_loves 0.25712914\n",
      "20 2016-03-14 perc_loves 0.33751152\n"
     ]
    }
   ],
   "source": [
    "df_agg_long <- df_agg %>% gather(key=reaction, value=count, perc_loves:perc_angrys) %>%\n",
    "                        mutate(reaction=factor(reaction))\n",
    "\n",
    "print(head(df_agg_long,20))"
   ]
  },
  {
   "cell_type": "code",
   "execution_count": 78,
   "metadata": {
    "collapsed": false
   },
   "outputs": [],
   "source": [
    "plot <- ggplot(df_agg_long, aes(x=date, y=count, color=reaction)) +\n",
    "            geom_line(size=0.5, stat=\"identity\") +\n",
    "            fte_theme() +\n",
    "            scale_x_date(breaks = date_breaks(\"1 month\"), labels = date_format(\"%b %Y\")) +\n",
    "            scale_y_continuous(labels=percent) +\n",
    "            theme(legend.title = element_blank(),\n",
    "                  legend.position=\"top\",\n",
    "                  legend.direction=\"horizontal\",\n",
    "                  legend.key.width=unit(0.5, \"cm\"),\n",
    "                  legend.key.height=unit(0.25, \"cm\"),\n",
    "                  legend.margin=unit(0,\"cm\")) +\n",
    "            scale_color_viridis(discrete=T) +\n",
    "            scale_fill_viridis(discrete=T) +\n",
    "            labs(title=\"Daily Breakdown of Facebook Reactions on NYTimes's FB Posts\",\n",
    "                 x=\"Date Status Posted\",\n",
    "                 y=\"% Reaction Marketshare\")\n",
    "\n",
    "max_save(plot, \"reaction-example-3\", \"Facebook\")"
   ]
  },
  {
   "cell_type": "markdown",
   "metadata": {},
   "source": [
    "![](reaction-example-3.png)"
   ]
  },
  {
   "cell_type": "markdown",
   "metadata": {},
   "source": [
    "# The MIT License (MIT)\n",
    "\n",
    "Copyright (c) 2016 Max Woolf\n",
    "\n",
    "Permission is hereby granted, free of charge, to any person obtaining a copy of this software and associated documentation files (the \"Software\"), to deal in the Software without restriction, including without limitation the rights to use, copy, modify, merge, publish, distribute, sublicense, and/or sell copies of the Software, and to permit persons to whom the Software is furnished to do so, subject to the following conditions:\n",
    "\n",
    "The above copyright notice and this permission notice shall be included in all copies or substantial portions of the Software.\n",
    "\n",
    "THE SOFTWARE IS PROVIDED \"AS IS\", WITHOUT WARRANTY OF ANY KIND, EXPRESS OR IMPLIED, INCLUDING BUT NOT LIMITED TO THE WARRANTIES OF MERCHANTABILITY, FITNESS FOR A PARTICULAR PURPOSE AND NONINFRINGEMENT. IN NO EVENT SHALL THE AUTHORS OR COPYRIGHT HOLDERS BE LIABLE FOR ANY CLAIM, DAMAGES OR OTHER LIABILITY, WHETHER IN AN ACTION OF CONTRACT, TORT OR OTHERWISE, ARISING FROM, OUT OF OR IN CONNECTION WITH THE SOFTWARE OR THE USE OR OTHER DEALINGS IN THE SOFTWARE."
   ]
  }
 ],
 "metadata": {
  "kernelspec": {
   "display_name": "R",
   "language": "R",
   "name": "ir"
  },
  "language_info": {
   "codemirror_mode": "r",
   "file_extension": ".r",
   "mimetype": "text/x-r-source",
   "name": "R",
   "pygments_lexer": "r",
   "version": "3.3.0"
  }
 },
 "nbformat": 4,
 "nbformat_minor": 0
}
